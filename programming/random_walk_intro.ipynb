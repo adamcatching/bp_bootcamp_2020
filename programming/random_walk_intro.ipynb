{
 "cells": [
  {
   "cell_type": "markdown",
   "metadata": {},
   "source": [
    "For the last day all that is learned will be put together to complete a small project.  \n",
    "\n",
    "Simulate the random walk of a polymer that is restricted to the 2D plane. The segment length of eachstep in the walk is $1$, and the direction for each step is randomly chosen from $\\theta$ equals $0$ to $360^o$.  \n",
    "\n",
    "This is an important project. The concepts here are the basis for theories in diffusion, polymers (every protein that exists), Markov Chains, population genetics, etc. This project will focus more on the physical ideas associated with a random walk."
   ]
  },
  {
   "cell_type": "markdown",
   "metadata": {},
   "source": [
    "Simulate a polymer with $N= 100$ segments. Start at each simulation at the origin. For each simulation, pick a seed at the beginning, then write each coordinate to a .csv file in tidy format. Plot $5$ of these simulation on a graph. "
   ]
  },
  {
   "cell_type": "markdown",
   "metadata": {},
   "source": [
    "Repeat the simulation and calculate the end-to-end distance, $r$, for each simulation. Plot the histogram of $r^{2}$. Plot the theoretical 2D distribution over your results. Try to carry out enough simulations to get a decent looking histogram, but if the simulations are slow, a rough distribution is fine.  \n"
   ]
  },
  {
   "cell_type": "markdown",
   "metadata": {},
   "source": [
    "A) Vary the number of steps on the random walk. Using a large number of simulations (say 1000 per set number of steps), find the relationship between number of steps, $N = 100, 200, ... 1000$ and the $r^{2}$ of end-to-end distance.\n",
    "\n",
    "B) Now assume that $\\theta$ is restricted to $\\pm \\phi$, where $\\phi$ varies from $360, 340,...$ to $20, 0$ degrees, compute the distribution of $r^{2}$ for each of these values. Then find the mean of each $r^{2}$ distribution with a different value of $\\phi$. Plot the relationship of $\\phi$ and $r^{2}$. \n",
    "\n",
    "C) It is a bit harder to visualize, but what if we look into the 3rd dimension? Modify the function to deal with a 3-space coordinate system and calculate the same values of coordinates, x, y, and z displacement, and the net displacement. Plot the same plot from A) with values obtained with this 3D model."
   ]
  },
  {
   "cell_type": "code",
   "execution_count": 1,
   "metadata": {},
   "outputs": [],
   "source": [
    "# First import packages\n",
    "import numpy as np\n",
    "import scipy\n",
    "import matplotlib.pyplot as plt\n",
    "\n",
    "import seaborn as sns\n",
    "import pandas as pd"
   ]
  },
  {
   "cell_type": "code",
   "execution_count": null,
   "metadata": {},
   "outputs": [],
   "source": []
  }
 ],
 "metadata": {
  "kernelspec": {
   "display_name": "Python 3",
   "language": "python",
   "name": "python3"
  },
  "language_info": {
   "codemirror_mode": {
    "name": "ipython",
    "version": 3
   },
   "file_extension": ".py",
   "mimetype": "text/x-python",
   "name": "python",
   "nbconvert_exporter": "python",
   "pygments_lexer": "ipython3",
   "version": "3.7.1"
  }
 },
 "nbformat": 4,
 "nbformat_minor": 2
}
